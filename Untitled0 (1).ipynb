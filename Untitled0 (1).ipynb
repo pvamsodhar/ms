{
  "nbformat": 4,
  "nbformat_minor": 0,
  "metadata": {
    "colab": {
      "provenance": []
    },
    "kernelspec": {
      "name": "python3",
      "display_name": "Python 3"
    },
    "language_info": {
      "name": "python"
    }
  },
  "cells": [
    {
      "cell_type": "code",
      "execution_count": null,
      "metadata": {
        "id": "pYNwnLCTH69i"
      },
      "outputs": [],
      "source": [
        "import numpy as np\n",
        "\n",
        "arr1 = np.array([[1, 2, 3]])\n",
        "\n",
        "arr2 = np.zeros(50)\n",
        "\n",
        "arr3 = np.array([[1, 2], [3, 4], [5, 6]])\n",
        "\n",
        "arr4 = np.dot(arr1, arr3)\n",
        "\n",
        "arr2[4] = 10\n",
        "\n",
        "if np.shape(arr4) == (1, 2) and arr2[4]!= 0:\n",
        "  print(\"Passed\")\n",
        "else:\n",
        "  print(\"Fail\")\n",
        "\n",
        "I = np.identity(3)\n",
        "dot_product = np.dot(I, 9 * I + 1)\n"
      ]
    },
    {
      "cell_type": "code",
      "source": [
        "import pandas as pd\n",
        "\n",
        "data = {\n",
        "    'Name': ['Ramesh', 'Mahesh', 'Suresh'],\n",
        "    'Age': [25, 30, 35],\n",
        "    'City': ['Bangalore', 'Mumbai', 'Delhi']\n",
        "}\n",
        "df = pd.DataFrame(data)\n",
        "\n",
        "print(df.head(2))\n",
        "\n",
        "print(df['Age'])\n",
        "\n",
        "print(df[df['Age'] > 26])\n",
        "\n",
        "df['Country'] = 'India'\n",
        "\n",
        "data1 = {\n",
        "    'Name': ['Ramesh', 'Mahesh', 'Suresh'],\n",
        "    'Age': [25, None, 35],\n",
        "    'City': ['Bangalore', 'Mumbai', 'Delhi']\n",
        "}\n",
        "\n",
        "df2 = pd.DataFrame(data1)\n",
        "\n",
        "df2['Age'].fillna(df2['Age'].mean(), inplace=True)"
      ],
      "metadata": {
        "id": "J7sDVRpdH9ty"
      },
      "execution_count": null,
      "outputs": []
    },
    {
      "cell_type": "code",
      "source": [
        "import matplotlib.pyplot as plt\n",
        "import numpy as np\n",
        "\n",
        "xpoints = np.array([1, 2, 3, 4])\n",
        "ypoints = np.array([2, 4, 6, 8])\n",
        "\n",
        "plt.plot(xpoints, ypoints, 'o')\n",
        "\n",
        "plt.plot(xpoints, ypoints, '*')\n",
        "\n",
        "plt.plot(xpoints, ypoints, 'ro--')\n",
        "\n",
        "plt.xlabel('X-axis')\n",
        "plt.ylabel('Y-axis')\n",
        "plt.title('Line Plot')\n",
        "\n",
        "plt.scatter(xpoints, ypoints, c=['blue', 'green', 'red', 'yellow'])"
      ],
      "metadata": {
        "id": "kClAEEHyH9kB"
      },
      "execution_count": null,
      "outputs": []
    },
    {
      "cell_type": "code",
      "source": [
        "import random\n",
        "import numpy as np\n",
        "\n",
        "random.seed(20)\n",
        "\n",
        "arr1 = np.array([1, 24, 31, 45, 73, 81, 94, 25])\n",
        "\n",
        "random_numbers = random.sample(list(arr1), 4)\n",
        "print(sum(random_numbers))"
      ],
      "metadata": {
        "id": "BX-xWPNGH9cZ"
      },
      "execution_count": null,
      "outputs": []
    }
  ]
}